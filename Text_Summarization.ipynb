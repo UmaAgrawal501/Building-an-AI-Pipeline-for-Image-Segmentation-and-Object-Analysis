{
  "nbformat": 4,
  "nbformat_minor": 0,
  "metadata": {
    "colab": {
      "provenance": [],
      "authorship_tag": "ABX9TyPdkbXqsdGCSKr3tAxvXclb",
      "include_colab_link": true
    },
    "kernelspec": {
      "name": "python3",
      "display_name": "Python 3"
    },
    "language_info": {
      "name": "python"
    }
  },
  "cells": [
    {
      "cell_type": "markdown",
      "metadata": {
        "id": "view-in-github",
        "colab_type": "text"
      },
      "source": [
        "<a href=\"https://colab.research.google.com/github/UmaAgrawal501/uma-wasserstoff-AiInternTask/blob/main/Text_Summarization.ipynb\" target=\"_parent\"><img src=\"https://colab.research.google.com/assets/colab-badge.svg\" alt=\"Open In Colab\"/></a>"
      ]
    },
    {
      "cell_type": "code",
      "execution_count": 1,
      "metadata": {
        "id": "dn1NE431bhqH"
      },
      "outputs": [],
      "source": [
        "from nltk.corpus import stopwords\n",
        "from nltk.tokenize import word_tokenize, sent_tokenize"
      ]
    },
    {
      "cell_type": "code",
      "source": [
        "import nltk\n",
        "nltk.download('stopwords')\n",
        "nltk.download('punkt')"
      ],
      "metadata": {
        "colab": {
          "base_uri": "https://localhost:8080/"
        },
        "id": "oApdxP2Nbtg2",
        "outputId": "c8a09cec-7394-458e-ae2b-9131ff79a3e3"
      },
      "execution_count": 2,
      "outputs": [
        {
          "output_type": "stream",
          "name": "stderr",
          "text": [
            "[nltk_data] Downloading package stopwords to /root/nltk_data...\n",
            "[nltk_data]   Unzipping corpora/stopwords.zip.\n",
            "[nltk_data] Downloading package punkt to /root/nltk_data...\n",
            "[nltk_data]   Unzipping tokenizers/punkt.zip.\n"
          ]
        },
        {
          "output_type": "execute_result",
          "data": {
            "text/plain": [
              "True"
            ]
          },
          "metadata": {},
          "execution_count": 2
        }
      ]
    },
    {
      "cell_type": "code",
      "source": [
        "#Enter your text for summarize\n",
        "text = \"\"\"Sachin Ramesh Tendulkar (/ˌsʌtʃɪn tɛnˈduːlkər/ ⓘ; pronounced [sətɕin teːɳɖulkəɾ]; born 24 April 1973) is an Indian former international cricketer who captained the Indian national team. He is widely regarded as one of the greatest batsmen in the history of cricket.[5] Hailed as the world's most prolific batsman of all time, he is the all-time highest run-scorer in both ODI and Test cricket with more than 18,000 runs and 15,000 runs, respectively.[6] He also holds the record for receiving the most player of the match awards in international cricket.[7] Tendulkar was a Member of Parliament, Rajya Sabha by presidential nomination from 2012 to 2018.[8][9]\n",
        "\n",
        "Tendulkar took up cricket at the age of eleven, made his Test match debut on 15 November 1989 against Pakistan in Karachi at the age of sixteen, and went on to represent Mumbai domestically and India internationally for over 24 years.[10] In 2002, halfway through his career, Wisden ranked him the second-greatest Test batsman of all time, behind Don Bradman, and the second-greatest ODI batsman of all time, behind Viv Richards.[11] The same year, Tendulkar was a part of the team that was one of the joint-winners of the 2002 ICC Champions Trophy. Later in his career, Tendulkar was part of the Indian team that won the 2011 Cricket World Cup, his first win in six World Cup appearances for India.[12] He had previously been named \"Player of the Tournament\" at the 2003 World Cup.\"\"\""
      ],
      "metadata": {
        "id": "62q2BW48buZX"
      },
      "execution_count": 7,
      "outputs": []
    },
    {
      "cell_type": "code",
      "source": [
        "stopWords = set(stopwords.words(\"english\"))\n",
        "print(stopWords)"
      ],
      "metadata": {
        "colab": {
          "base_uri": "https://localhost:8080/"
        },
        "id": "v5ra2GcxcMAs",
        "outputId": "01a0d346-375a-46b3-8f38-fbaed96787d6"
      },
      "execution_count": 8,
      "outputs": [
        {
          "output_type": "stream",
          "name": "stdout",
          "text": [
            "{'against', 'their', 'to', 'didn', 'and', 'ours', 'hadn', 'hasn', 'through', 'by', 'out', 't', 'again', 'll', 'yourself', 'shouldn', 'yourselves', 'some', 'about', 'with', 'herself', 'have', 'here', 'can', \"that'll\", 'were', \"mustn't\", 'i', 'my', \"she's\", 'too', 'all', 'should', 'both', \"haven't\", 'off', 'than', 'needn', 'won', 'whom', 'being', 'not', 'mightn', \"needn't\", 'the', 'only', \"shouldn't\", 'from', 'you', 'down', 'having', \"you're\", 'couldn', 'such', 'those', 'own', \"weren't\", 'its', 'or', 'of', 'what', 'that', \"aren't\", 'yours', 'haven', 'itself', 'was', 'but', 'further', 'wouldn', \"wouldn't\", 'our', 'don', 'himself', 'had', 'at', 'below', 'me', 'on', 'his', 'so', 'she', 'they', \"didn't\", 'y', 'your', 'is', \"you'll\", 'between', \"isn't\", 'very', 'into', 'nor', 've', \"mightn't\", 'themselves', 'above', 'doing', \"doesn't\", 'up', 'same', 're', 'we', 'any', \"don't\", 'wasn', \"won't\", 'during', 'then', 'a', 'mustn', \"hasn't\", 'her', 'am', 'no', 'when', \"couldn't\", \"shan't\", 'because', 'there', \"you'd\", 'has', 'under', 'it', 'just', 'do', 'he', 'where', 'most', 'if', 'over', 'be', 'does', 'other', 'which', 'this', \"hadn't\", 'are', 'as', 'd', 'did', 'in', \"it's\", 'ourselves', 'them', 'an', 'm', 'ma', 'for', 'how', 'more', \"wasn't\", 'why', 'few', 'him', 'now', 'doesn', 'once', 'shan', 'myself', 'hers', 'these', 'isn', 'ain', 'until', 'weren', 'before', 'after', 'while', 'o', 'theirs', 'each', 's', 'been', \"should've\", 'who', 'will', 'aren', \"you've\"}\n"
          ]
        }
      ]
    },
    {
      "cell_type": "code",
      "source": [
        "words = word_tokenize(text)\n",
        "print(words)"
      ],
      "metadata": {
        "colab": {
          "base_uri": "https://localhost:8080/"
        },
        "id": "siqRwf4VcZZB",
        "outputId": "4ae4bed2-eed5-4eab-c1ce-a07d84cf14f3"
      },
      "execution_count": 9,
      "outputs": [
        {
          "output_type": "stream",
          "name": "stdout",
          "text": [
            "['Sachin', 'Ramesh', 'Tendulkar', '(', '/ˌsʌtʃɪn', 'tɛnˈduːlkər/', 'ⓘ', ';', 'pronounced', '[', 'sətɕin', 'teːɳɖulkəɾ', ']', ';', 'born', '24', 'April', '1973', ')', 'is', 'an', 'Indian', 'former', 'international', 'cricketer', 'who', 'captained', 'the', 'Indian', 'national', 'team', '.', 'He', 'is', 'widely', 'regarded', 'as', 'one', 'of', 'the', 'greatest', 'batsmen', 'in', 'the', 'history', 'of', 'cricket', '.', '[', '5', ']', 'Hailed', 'as', 'the', 'world', \"'s\", 'most', 'prolific', 'batsman', 'of', 'all', 'time', ',', 'he', 'is', 'the', 'all-time', 'highest', 'run-scorer', 'in', 'both', 'ODI', 'and', 'Test', 'cricket', 'with', 'more', 'than', '18,000', 'runs', 'and', '15,000', 'runs', ',', 'respectively', '.', '[', '6', ']', 'He', 'also', 'holds', 'the', 'record', 'for', 'receiving', 'the', 'most', 'player', 'of', 'the', 'match', 'awards', 'in', 'international', 'cricket', '.', '[', '7', ']', 'Tendulkar', 'was', 'a', 'Member', 'of', 'Parliament', ',', 'Rajya', 'Sabha', 'by', 'presidential', 'nomination', 'from', '2012', 'to', '2018', '.', '[', '8', ']', '[', '9', ']', 'Tendulkar', 'took', 'up', 'cricket', 'at', 'the', 'age', 'of', 'eleven', ',', 'made', 'his', 'Test', 'match', 'debut', 'on', '15', 'November', '1989', 'against', 'Pakistan', 'in', 'Karachi', 'at', 'the', 'age', 'of', 'sixteen', ',', 'and', 'went', 'on', 'to', 'represent', 'Mumbai', 'domestically', 'and', 'India', 'internationally', 'for', 'over', '24', 'years', '.', '[', '10', ']', 'In', '2002', ',', 'halfway', 'through', 'his', 'career', ',', 'Wisden', 'ranked', 'him', 'the', 'second-greatest', 'Test', 'batsman', 'of', 'all', 'time', ',', 'behind', 'Don', 'Bradman', ',', 'and', 'the', 'second-greatest', 'ODI', 'batsman', 'of', 'all', 'time', ',', 'behind', 'Viv', 'Richards', '.', '[', '11', ']', 'The', 'same', 'year', ',', 'Tendulkar', 'was', 'a', 'part', 'of', 'the', 'team', 'that', 'was', 'one', 'of', 'the', 'joint-winners', 'of', 'the', '2002', 'ICC', 'Champions', 'Trophy', '.', 'Later', 'in', 'his', 'career', ',', 'Tendulkar', 'was', 'part', 'of', 'the', 'Indian', 'team', 'that', 'won', 'the', '2011', 'Cricket', 'World', 'Cup', ',', 'his', 'first', 'win', 'in', 'six', 'World', 'Cup', 'appearances', 'for', 'India', '.', '[', '12', ']', 'He', 'had', 'previously', 'been', 'named', '``', 'Player', 'of', 'the', 'Tournament', \"''\", 'at', 'the', '2003', 'World', 'Cup', '.']\n"
          ]
        }
      ]
    },
    {
      "cell_type": "code",
      "source": [
        "freqtable = dict()"
      ],
      "metadata": {
        "id": "4w0OTgqyeIwK"
      },
      "execution_count": 10,
      "outputs": []
    },
    {
      "cell_type": "code",
      "source": [
        "#creating a frequency table to keep the score of each words\n",
        "freqtable = dict()\n",
        "for word in words:\n",
        "    word = word.lower()\n",
        "    if word in stopWords:\n",
        "        continue\n",
        "    if word in freqtable:\n",
        "        freqtable[word] += 1\n",
        "    else:\n",
        "        freqtable[word] = 1\n",
        "print(freqtable)"
      ],
      "metadata": {
        "colab": {
          "base_uri": "https://localhost:8080/"
        },
        "id": "Abxt7KsYeNeh",
        "outputId": "32273e56-0850-44ea-bff7-6a7ed0842143"
      },
      "execution_count": 11,
      "outputs": [
        {
          "output_type": "stream",
          "name": "stdout",
          "text": [
            "{'sachin': 1, 'ramesh': 1, 'tendulkar': 5, '(': 1, '/ˌsʌtʃɪn': 1, 'tɛnˈduːlkər/': 1, 'ⓘ': 1, ';': 2, 'pronounced': 1, '[': 9, 'sətɕin': 1, 'teːɳɖulkəɾ': 1, ']': 9, 'born': 1, '24': 2, 'april': 1, '1973': 1, ')': 1, 'indian': 3, 'former': 1, 'international': 2, 'cricketer': 1, 'captained': 1, 'national': 1, 'team': 3, '.': 10, 'widely': 1, 'regarded': 1, 'one': 2, 'greatest': 1, 'batsmen': 1, 'history': 1, 'cricket': 5, '5': 1, 'hailed': 1, 'world': 4, \"'s\": 1, 'prolific': 1, 'batsman': 3, 'time': 3, ',': 13, 'all-time': 1, 'highest': 1, 'run-scorer': 1, 'odi': 2, 'test': 3, '18,000': 1, 'runs': 2, '15,000': 1, 'respectively': 1, '6': 1, 'also': 1, 'holds': 1, 'record': 1, 'receiving': 1, 'player': 2, 'match': 2, 'awards': 1, '7': 1, 'member': 1, 'parliament': 1, 'rajya': 1, 'sabha': 1, 'presidential': 1, 'nomination': 1, '2012': 1, '2018': 1, '8': 1, '9': 1, 'took': 1, 'age': 2, 'eleven': 1, 'made': 1, 'debut': 1, '15': 1, 'november': 1, '1989': 1, 'pakistan': 1, 'karachi': 1, 'sixteen': 1, 'went': 1, 'represent': 1, 'mumbai': 1, 'domestically': 1, 'india': 2, 'internationally': 1, 'years': 1, '10': 1, '2002': 2, 'halfway': 1, 'career': 2, 'wisden': 1, 'ranked': 1, 'second-greatest': 2, 'behind': 2, 'bradman': 1, 'viv': 1, 'richards': 1, '11': 1, 'year': 1, 'part': 2, 'joint-winners': 1, 'icc': 1, 'champions': 1, 'trophy': 1, 'later': 1, '2011': 1, 'cup': 3, 'first': 1, 'win': 1, 'six': 1, 'appearances': 1, '12': 1, 'previously': 1, 'named': 1, '``': 1, 'tournament': 1, \"''\": 1, '2003': 1}\n"
          ]
        }
      ]
    },
    {
      "cell_type": "code",
      "source": [
        "#creating a dictionary to keep the score of each sentences\n",
        "sentences = sent_tokenize(text)\n",
        "print(sentences)"
      ],
      "metadata": {
        "colab": {
          "base_uri": "https://localhost:8080/"
        },
        "id": "ES4VttPgedjY",
        "outputId": "1d42f860-b589-4b1a-e4c7-0a20c1c9e840"
      },
      "execution_count": 16,
      "outputs": [
        {
          "output_type": "stream",
          "name": "stdout",
          "text": [
            "['Sachin Ramesh Tendulkar (/ˌsʌtʃɪn tɛnˈduːlkər/ ⓘ; pronounced [sətɕin teːɳɖulkəɾ]; born 24 April 1973) is an Indian former international cricketer who captained the Indian national team.', 'He is widely regarded as one of the greatest batsmen in the history of cricket.', \"[5] Hailed as the world's most prolific batsman of all time, he is the all-time highest run-scorer in both ODI and Test cricket with more than 18,000 runs and 15,000 runs, respectively.\", '[6] He also holds the record for receiving the most player of the match awards in international cricket.', '[7] Tendulkar was a Member of Parliament, Rajya Sabha by presidential nomination from 2012 to 2018.', '[8][9]\\n\\nTendulkar took up cricket at the age of eleven, made his Test match debut on 15 November 1989 against Pakistan in Karachi at the age of sixteen, and went on to represent Mumbai domestically and India internationally for over 24 years.', '[10] In 2002, halfway through his career, Wisden ranked him the second-greatest Test batsman of all time, behind Don Bradman, and the second-greatest ODI batsman of all time, behind Viv Richards.', '[11] The same year, Tendulkar was a part of the team that was one of the joint-winners of the 2002 ICC Champions Trophy.', 'Later in his career, Tendulkar was part of the Indian team that won the 2011 Cricket World Cup, his first win in six World Cup appearances for India.', '[12] He had previously been named \"Player of the Tournament\" at the 2003 World Cup.']\n"
          ]
        }
      ]
    },
    {
      "cell_type": "code",
      "source": [
        "def getsentencesValue(sentences):\n",
        "    sentenceValue = dict()\n",
        "    for sentence in sentences:\n",
        "        for word, freq in freqtable.items():\n",
        "            if word in sentence.lower():\n",
        "                if sentence in sentenceValue:\n",
        "                    sentenceValue[sentence] += freq\n",
        "                else:\n",
        "                    sentenceValue[sentence] = freq\n",
        "    return sentenceValue\n",
        "    print(sentenceValue)\n",
        "sentencesValue = getsentencesValue(sentences)\n",
        "print(sentencesValue)\n",
        ""
      ],
      "metadata": {
        "colab": {
          "base_uri": "https://localhost:8080/"
        },
        "id": "wrOOM1QveoJ7",
        "outputId": "b091a335-153b-4d8a-9b5a-80f383e986a5"
      },
      "execution_count": 17,
      "outputs": [
        {
          "output_type": "stream",
          "name": "stdout",
          "text": [
            "{'Sachin Ramesh Tendulkar (/ˌsʌtʃɪn tɛnˈduːlkər/ ⓘ; pronounced [sətɕin teːɳɖulkəɾ]; born 24 April 1973) is an Indian former international cricketer who captained the Indian national team.': 71, 'He is widely regarded as one of the greatest batsmen in the history of cricket.': 25, \"[5] Hailed as the world's most prolific batsman of all time, he is the all-time highest run-scorer in both ODI and Test cricket with more than 18,000 runs and 15,000 runs, respectively.\": 75, '[6] He also holds the record for receiving the most player of the match awards in international cricket.': 46, '[7] Tendulkar was a Member of Parliament, Rajya Sabha by presidential nomination from 2012 to 2018.': 57, '[8][9]\\n\\nTendulkar took up cricket at the age of eleven, made his Test match debut on 15 November 1989 against Pakistan in Karachi at the age of sixteen, and went on to represent Mumbai domestically and India internationally for over 24 years.': 86, '[10] In 2002, halfway through his career, Wisden ranked him the second-greatest Test batsman of all time, behind Don Bradman, and the second-greatest ODI batsman of all time, behind Viv Richards.': 68, '[11] The same year, Tendulkar was a part of the team that was one of the joint-winners of the 2002 ICC Champions Trophy.': 62, 'Later in his career, Tendulkar was part of the Indian team that won the 2011 Cricket World Cup, his first win in six World Cup appearances for India.': 59, '[12] He had previously been named \"Player of the Tournament\" at the 2003 World Cup.': 42}\n"
          ]
        }
      ]
    },
    {
      "cell_type": "code",
      "source": [
        "def getsumValues():\n",
        "    sumValues = 0\n",
        "    for sentence in sentencesValue:\n",
        "        sumValues += sentencesValue[sentence]\n",
        "\n",
        " # Average value of a sentence from original text\n",
        "\n",
        "\n",
        "    average = int(sumValues / len(sentencesValue))\n",
        "    return average\n",
        "\n",
        "average = getsumValues()\n",
        "print(average)"
      ],
      "metadata": {
        "colab": {
          "base_uri": "https://localhost:8080/"
        },
        "id": "uNj46klDgPvt",
        "outputId": "6e39fdaf-5029-40e6-80b3-140835d0f8d4"
      },
      "execution_count": 20,
      "outputs": [
        {
          "output_type": "stream",
          "name": "stdout",
          "text": [
            "59\n"
          ]
        }
      ]
    },
    {
      "cell_type": "code",
      "source": [
        "#storing sentences into our summary based on the sentence score\n",
        "summary = ''\n",
        "for sentence in sentences:\n",
        "    if (sentencesValue[sentence] > (1.2* average)):\n",
        "        summary += \" \" + sentence\n",
        "print(summary)"
      ],
      "metadata": {
        "colab": {
          "base_uri": "https://localhost:8080/"
        },
        "id": "2LcCejG0gzGl",
        "outputId": "a1eb2357-ee68-4313-c704-1e324aeef01c"
      },
      "execution_count": 24,
      "outputs": [
        {
          "output_type": "stream",
          "name": "stdout",
          "text": [
            " Sachin Ramesh Tendulkar (/ˌsʌtʃɪn tɛnˈduːlkər/ ⓘ; pronounced [sətɕin teːɳɖulkəɾ]; born 24 April 1973) is an Indian former international cricketer who captained the Indian national team. [5] Hailed as the world's most prolific batsman of all time, he is the all-time highest run-scorer in both ODI and Test cricket with more than 18,000 runs and 15,000 runs, respectively. [8][9]\n",
            "\n",
            "Tendulkar took up cricket at the age of eleven, made his Test match debut on 15 November 1989 against Pakistan in Karachi at the age of sixteen, and went on to represent Mumbai domestically and India internationally for over 24 years. [10] In 2002, halfway through his career, Wisden ranked him the second-greatest Test batsman of all time, behind Don Bradman, and the second-greatest ODI batsman of all time, behind Viv Richards. [11] The same year, Tendulkar was a part of the team that was one of the joint-winners of the 2002 ICC Champions Trophy.\n"
          ]
        }
      ]
    }
  ]
}